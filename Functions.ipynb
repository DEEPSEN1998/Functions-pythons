{
  "nbformat": 4,
  "nbformat_minor": 0,
  "metadata": {
    "colab": {
      "provenance": []
    },
    "kernelspec": {
      "name": "python3",
      "display_name": "Python 3"
    },
    "language_info": {
      "name": "python"
    }
  },
  "cells": [
    {
      "cell_type": "markdown",
      "source": [
        "# Functions Assignment"
      ],
      "metadata": {
        "id": "VEr4UrHI1dQr"
      }
    },
    {
      "cell_type": "markdown",
      "source": [
        "# **Theory Questions:**"
      ],
      "metadata": {
        "id": "9foRc2iM1uLZ"
      }
    },
    {
      "cell_type": "markdown",
      "source": [
        "1. **What is the difference between a function and a method in Python?**\n",
        "\n",
        "- **Function:**\n",
        "- A function is a block of code defined using the def keyword and can exist independently of any class.\n",
        "- Functions can be called directly without requiring an class object.\n",
        "- **Methods:**\n",
        "- A method is essentially a function that is bound to an object (an instance of a class) and is defined within a class.\n",
        "- It can only be called on an object of the class it belongs to."
      ],
      "metadata": {
        "id": "A8uWftkP13OR"
      }
    },
    {
      "cell_type": "markdown",
      "source": [
        "2.  **Explain the concept of function arguments and parameters in Python.**\n",
        "\n",
        "- **Parameters:**\n",
        "-    These are the variable names defined in the function's signature.\n",
        "-    They act as placeholders for the values the function expects when it is called.\n",
        "- **Arguments:**\n",
        "-    These are the actual values passed to the function when it is called.\n",
        "-    Arguments are assigned to the corresponding parameters."
      ],
      "metadata": {
        "id": "XyM-QcUI3PZc"
      }
    },
    {
      "cell_type": "code",
      "source": [
        "#eaxmple of parameter:\n",
        "def greet(name):  # 'name' is a parameter\n",
        "    return f\"Hello, {name}!\"\n",
        "#emaple of arguments:\n",
        "print(greet(\"Deep\"))  # \"Deep\" is an argument\n"
      ],
      "metadata": {
        "colab": {
          "base_uri": "https://localhost:8080/"
        },
        "id": "oxSLVaVk1xTR",
        "outputId": "920d1f9f-6e0a-4955-940a-fcce11ec98c9"
      },
      "execution_count": null,
      "outputs": [
        {
          "output_type": "stream",
          "name": "stdout",
          "text": [
            "Hello, Deep!\n"
          ]
        }
      ]
    },
    {
      "cell_type": "markdown",
      "source": [
        "3. **What are the different ways to define and call a function in Python?**\n",
        "-  **Standard Function Definition and Call :**\n",
        "-  A function is defined using the def keyword followed by its name, parameters (optional), and a block of code.\n",
        "\n"
      ],
      "metadata": {
        "id": "lbdZYVPf4fDq"
      }
    },
    {
      "cell_type": "code",
      "source": [
        "#example:\n",
        "def greet(name):\n",
        "    return f\"Hello, {name}!\"\n",
        "print(greet(\"Deep\"))\n"
      ],
      "metadata": {
        "colab": {
          "base_uri": "https://localhost:8080/"
        },
        "id": "cDLAc5dU4Uaa",
        "outputId": "6e119de0-531f-4bed-c951-9cb8f48f7e0f"
      },
      "execution_count": null,
      "outputs": [
        {
          "output_type": "stream",
          "name": "stdout",
          "text": [
            "Hello, Deep!\n"
          ]
        }
      ]
    },
    {
      "cell_type": "markdown",
      "source": [
        "- **Function with Default Parameters :**\n",
        "- a function with default values for parameters. These defaults are used if no arguments are provided for them.\n",
        "\n",
        "\n",
        "\n"
      ],
      "metadata": {
        "id": "Po-0UaXaB88r"
      }
    },
    {
      "cell_type": "code",
      "source": [
        "#example:\n",
        "def greet(name, greeting=\"Hello\"):\n",
        "    return f\"{greeting}, {name}!\"\n",
        "print(greet(\"Deep\"))           # Outputs: Hello, Deep!\n",
        "print(greet(\"Deep\", \"Hi\"))     # Outputs: Hi, Deep!\n"
      ],
      "metadata": {
        "colab": {
          "base_uri": "https://localhost:8080/"
        },
        "id": "mZYQmT-wB4v_",
        "outputId": "a79fcdfa-fcac-4e90-9fda-fc540abaff5a"
      },
      "execution_count": null,
      "outputs": [
        {
          "output_type": "stream",
          "name": "stdout",
          "text": [
            "Hello, Deep!\n",
            "Hi, Deep!\n"
          ]
        }
      ]
    },
    {
      "cell_type": "markdown",
      "source": [
        "- **Anonymous Function (Lambda Function):**\n",
        "- Define a small, one-line function using the lambda keyword.\n"
      ],
      "metadata": {
        "id": "vxeGHH4-CbgA"
      }
    },
    {
      "cell_type": "code",
      "source": [
        "#eaxmple:\n",
        "multiply = lambda x, y: x * y\n",
        "print(multiply(3, 4))  # Outputs: 12\n"
      ],
      "metadata": {
        "colab": {
          "base_uri": "https://localhost:8080/"
        },
        "id": "lzp0VNDlCTs-",
        "outputId": "441bd9a2-3883-48ac-db7b-41eabe129294"
      },
      "execution_count": null,
      "outputs": [
        {
          "output_type": "stream",
          "name": "stdout",
          "text": [
            "12\n"
          ]
        }
      ]
    },
    {
      "cell_type": "markdown",
      "source": [
        "- **Recursive Function:**\n",
        "- A function that calls itself to solve a problem iteratively."
      ],
      "metadata": {
        "id": "mUGIIDVWC7Y6"
      }
    },
    {
      "cell_type": "code",
      "source": [
        "#example:\n",
        "def factorial(n):\n",
        "    if n == 0:\n",
        "        return 1\n",
        "    return n * factorial(n - 1)\n",
        "print(factorial(5))  # Outputs: 120\n"
      ],
      "metadata": {
        "colab": {
          "base_uri": "https://localhost:8080/"
        },
        "id": "iF_m-mx1ClxV",
        "outputId": "9fa2accd-8d3b-4c5e-e3de-3bdf00947176"
      },
      "execution_count": null,
      "outputs": [
        {
          "output_type": "stream",
          "name": "stdout",
          "text": [
            "120\n"
          ]
        }
      ]
    },
    {
      "cell_type": "markdown",
      "source": [
        "4.  **What is the purpose of the `return` statement in a Python function?**\n",
        "- The return statement specifies the value that the function outputs when it is called.\n",
        "- Once the return statement is executed, the function stops running.\n",
        "- Any code after the return statement will not be executed."
      ],
      "metadata": {
        "id": "j08-aTf1DLng"
      }
    },
    {
      "cell_type": "code",
      "source": [
        "#example:\n",
        "def add(x, y):\n",
        "    return x + y\n",
        "\n",
        "result = add(3, 5)  # result will be 8\n",
        "print(result)       # Outputs: 8\n"
      ],
      "metadata": {
        "colab": {
          "base_uri": "https://localhost:8080/"
        },
        "id": "Xiloig52DEH2",
        "outputId": "a8a4c427-f3bd-41e1-d9c8-9b11b22ca171"
      },
      "execution_count": null,
      "outputs": [
        {
          "output_type": "stream",
          "name": "stdout",
          "text": [
            "8\n"
          ]
        }
      ]
    },
    {
      "cell_type": "markdown",
      "source": [
        "\n",
        "5.  **What are iterators in Python and how do they differ from iterables?**"
      ],
      "metadata": {
        "id": "hZ9qIoluD-Ox"
      }
    },
    {
      "cell_type": "markdown",
      "source": [
        "**An iterator**\n",
        "- It is an object that represents a stream of data. It keeps track of its current position and returns elements one at a time when iterated upon. It implements two methods:\n",
        "\n",
        "   __iter__() —> Returns the iterator object itself.\n",
        "   __next__() —> Returns the next element in the sequence."
      ],
      "metadata": {
        "id": "4HQ_mcmxEsz-"
      }
    },
    {
      "cell_type": "code",
      "source": [
        "my_iterator = iter([1, 2, 3])  # Get an iterator from a list\n",
        "print(next(my_iterator))  # Outputs: 1\n",
        "print(next(my_iterator))  # Outputs: 2\n",
        "print(next(my_iterator))  # Outputs: 3\n",
        "# print(next(my_iterator))  # Raises StopIteration\n"
      ],
      "metadata": {
        "colab": {
          "base_uri": "https://localhost:8080/"
        },
        "id": "tLJxTi3RD5kP",
        "outputId": "27a30a4a-e35c-4eba-bac7-4e813023aaa7"
      },
      "execution_count": null,
      "outputs": [
        {
          "output_type": "stream",
          "name": "stdout",
          "text": [
            "1\n",
            "2\n",
            "3\n"
          ]
        }
      ]
    },
    {
      "cell_type": "markdown",
      "source": [
        "- **Iterable:** An object capable of returning its elements one at a time. Examples include lists, tuples, dictionaries, sets, and strings.\n",
        "- **Iterator:** An object that represents a stream of data and allows you to fetch one element at a time using next()."
      ],
      "metadata": {
        "id": "ru85n9CDGEfs"
      }
    },
    {
      "cell_type": "markdown",
      "source": [
        "6. **Explain the concept of generators in Python and how they are defined.**\n",
        "- **Generators:**\n",
        "- Generators are a special type of iterator that allow you to create sequences of data on the fly in a memory-efficient way. Instead of returning all the values at once like a list, a generator produces items one at a time, pausing its execution between each value.\n",
        "- **how they are defined:**\n",
        "- example:-\n"
      ],
      "metadata": {
        "id": "xWQE8Bz2GJ4O"
      }
    },
    {
      "cell_type": "code",
      "source": [
        "def generate_numbers(n):\n",
        "    for i in range(n):\n",
        "        yield i\n",
        "\n",
        "gen = generate_numbers(5)\n",
        "print(next(gen))  # Outputs: 0\n",
        "print(next(gen))  # Outputs: 1\n",
        "print(next(gen))  # Outputs: 2\n"
      ],
      "metadata": {
        "colab": {
          "base_uri": "https://localhost:8080/"
        },
        "id": "92833fjBDuzt",
        "outputId": "6b8cd208-87c4-49e5-ee87-29fdc6cd23e4"
      },
      "execution_count": null,
      "outputs": [
        {
          "output_type": "stream",
          "name": "stdout",
          "text": [
            "0\n",
            "1\n",
            "2\n"
          ]
        }
      ]
    },
    {
      "cell_type": "markdown",
      "source": [
        "7. **What are the advantages of using generators over regular functions?**\n",
        "\n",
        "- **Memory Efficiency**: Generators yield values one at a time, without storing the entire sequence in memory, making them suitable for large datasets or infinite sequences.\n",
        "- **Lazy Evaluation**: They compute values only when needed, reducing unnecessary computation.\n",
        "- **State Retention**: Generators remember their state between successive calls, unlike regular functions that execute from start to finish each time.\n",
        "- **Simpler Code**: Generators eliminate the need to manually manage state or return multiple values."
      ],
      "metadata": {
        "id": "4rAAxL75IwR5"
      }
    },
    {
      "cell_type": "markdown",
      "source": [
        "8. **What is a Lambda Function in Python and When is it Typically Used?**\n",
        "- **Definition**: A lambda function is a small anonymous function defined using the lambda keyword. It can take any number of arguments but can only have one expression.\n",
        "- **Syntax:** lambda arguments: expression\n",
        "\n",
        "- **When to Use:**\n",
        "\n",
        "-   When a small, short function is needed temporarily.\n",
        "    Typically used with functions like map(), filter(), and sorted()."
      ],
      "metadata": {
        "id": "wOacjCw6JISR"
      }
    },
    {
      "cell_type": "code",
      "source": [
        "#example:\n",
        "add = lambda x, y: x + y\n",
        "print(add(3, 5))  # Outputs: 8\n"
      ],
      "metadata": {
        "colab": {
          "base_uri": "https://localhost:8080/"
        },
        "id": "Yn6s2FD6HgxE",
        "outputId": "ddb0df14-8ada-4a37-d777-3a322ea96201"
      },
      "execution_count": null,
      "outputs": [
        {
          "output_type": "stream",
          "name": "stdout",
          "text": [
            "8\n"
          ]
        }
      ]
    },
    {
      "cell_type": "markdown",
      "source": [
        "9. **Explain the purpose and usage of the map() function in Python.**\n",
        "- **Purpose:** The map() function applies a given function to each item in an iterable (like a list) and returns an iterator (a map object) of the results.\n",
        "\n",
        "- ** Usage:** It's used to transform or modify all elements in an iterable without needing an explicit loop.\n",
        "\n",
        "- **Syntax:** map(function, iterable)"
      ],
      "metadata": {
        "id": "K0pBme7tJtqK"
      }
    },
    {
      "cell_type": "code",
      "source": [
        "#example:\n",
        "numbers = [1, 2, 3, 4]\n",
        "squares = map(lambda x: x ** 2, numbers)\n",
        "print(list(squares))  # Outputs: [1, 4, 9, 16]\n"
      ],
      "metadata": {
        "colab": {
          "base_uri": "https://localhost:8080/"
        },
        "id": "KQEwdYZjJrE7",
        "outputId": "5b511869-6468-4a97-b2ed-e42fe3098831"
      },
      "execution_count": null,
      "outputs": [
        {
          "output_type": "stream",
          "name": "stdout",
          "text": [
            "[1, 4, 9, 16]\n"
          ]
        }
      ]
    },
    {
      "cell_type": "markdown",
      "source": [
        "10. **Difference Between map(), reduce(), and filter() Functions in Python**\n",
        "\n"
      ],
      "metadata": {
        "id": "e_7J4vY5KS3E"
      }
    },
    {
      "cell_type": "markdown",
      "source": [
        "- **Map():**\n",
        "\n",
        "- **Purpose:** Applies a given function to each item in an iterable (e.g., list, tuple) and returns a new iterable (map object).\n",
        "- **Syntax:** map(function, iterable)\n",
        "- **Example**: If you want to square each number in a list:"
      ],
      "metadata": {
        "id": "TEDpkhn6M2mG"
      }
    },
    {
      "cell_type": "code",
      "source": [
        "numbers = [1, 2, 3, 4]\n",
        "result = map(lambda x: x**2, numbers)\n",
        "print(list(result))  # Output: [1, 4, 9, 16]\n"
      ],
      "metadata": {
        "colab": {
          "base_uri": "https://localhost:8080/"
        },
        "id": "12BjyqVvM2c3",
        "outputId": "0d816dd9-0e3e-4d02-bc8b-d1d88d38fb97"
      },
      "execution_count": null,
      "outputs": [
        {
          "output_type": "stream",
          "name": "stdout",
          "text": [
            "[1, 4, 9, 16]\n"
          ]
        }
      ]
    },
    {
      "cell_type": "markdown",
      "source": [
        "- **Filter():**\n",
        "\n",
        "- **Purpose:** Filters elements from an iterable based on a function that returns a boolean (True or False). It returns a new iterable with elements that evaluate to True.\n",
        "- **Syntax:** filter(function, iterable)\n",
        "- **Example**: If you want to filter out even numbers from a list:\n",
        "\n",
        "    "
      ],
      "metadata": {
        "id": "yJfniS6JMyxm"
      }
    },
    {
      "cell_type": "code",
      "source": [
        "numbers = [1, 2, 3, 4, 5, 6]\n",
        "result = filter(lambda x: x % 2 == 0, numbers)\n",
        "print(list(result))  # Output: [2, 4, 6]\n"
      ],
      "metadata": {
        "colab": {
          "base_uri": "https://localhost:8080/"
        },
        "id": "8QbhIDH3MXVG",
        "outputId": "d3ba0c63-75b9-4ba8-e941-a5b2d6963b4d"
      },
      "execution_count": null,
      "outputs": [
        {
          "output_type": "stream",
          "name": "stdout",
          "text": [
            "[2, 4, 6]\n"
          ]
        }
      ]
    },
    {
      "cell_type": "markdown",
      "source": [
        "**Reduce() :**\n",
        "\n",
        "- **Purpose:** Applies a binary function (a function that takes two arguments) cumulatively to the items of an iterable, from left to right, to reduce the iterable to a single value.\n",
        "- **Syntax:** reduce(function, iterable[, initial])\n",
        "- **Example**: If you want to calculate the product of all numbers in a list:\n",
        "\n"
      ],
      "metadata": {
        "id": "2oBoq9OmMYOK"
      }
    },
    {
      "cell_type": "code",
      "source": [
        "from functools import reduce\n",
        "numbers = [1, 2, 3, 4]\n",
        "result = reduce(lambda x, y: x * y, numbers)\n",
        "print(result)  # Output: 24"
      ],
      "metadata": {
        "colab": {
          "base_uri": "https://localhost:8080/"
        },
        "id": "W9QogiPSKOVs",
        "outputId": "fa9dda5d-c97f-4bc7-b335-c64ffe675998"
      },
      "execution_count": null,
      "outputs": [
        {
          "output_type": "stream",
          "name": "stdout",
          "text": [
            "24\n"
          ]
        }
      ]
    },
    {
      "cell_type": "markdown",
      "source": [
        "11. **Using pen & Paper write the internal mechanism for sum operation using  reduce function on this given**\n",
        "list:[47,11,42,13];\n",
        "\n",
        "- **First Step:**\n",
        "\n",
        "    - Apply lambda(47, 11) → 47 + 11 = 58\n",
        "    - Intermediate result: 58\n",
        "\n",
        "- **Second Step:**\n",
        "\n",
        "    - Apply lambda(58, 42) → 58 + 42 = 100\n",
        "    - Intermediate result: 100\n",
        "\n",
        "- **Third Step:**\n",
        "\n",
        "    - Apply lambda(100, 13) → 100 + 13 = 113\n",
        "    - Final result: 113"
      ],
      "metadata": {
        "id": "DpXEjnjkNT-J"
      }
    },
    {
      "cell_type": "code",
      "source": [
        "from functools import reduce\n",
        "numbers = [47, 11, 42, 13]\n",
        "result = reduce(lambda x, y: x + y, numbers)\n",
        "print(result)  # Outputs: 113\n"
      ],
      "metadata": {
        "colab": {
          "base_uri": "https://localhost:8080/"
        },
        "id": "I9zrSxIuMbCT",
        "outputId": "d607a845-28ae-4b17-b18c-a68610d84ea0"
      },
      "execution_count": null,
      "outputs": [
        {
          "output_type": "stream",
          "name": "stdout",
          "text": [
            "113\n"
          ]
        }
      ]
    },
    {
      "cell_type": "markdown",
      "source": [
        "# **Practical Questions:**"
      ],
      "metadata": {
        "id": "mgW9_8VJODAg"
      }
    },
    {
      "cell_type": "code",
      "source": [
        "# 1. Write a Python function that takes a list of numbers as input and returns the sum of all even numbers in the list\n",
        "def sum_even_numbers(l):\n",
        "    s = 0\n",
        "    for i in l:\n",
        "        if i % 2 == 0:\n",
        "            s = s + i\n",
        "    return s\n",
        "n = [1, 4, 8, 10, 11]\n",
        "result = sum_even_numbers(n)\n",
        "result\n",
        "\n",
        "\n"
      ],
      "metadata": {
        "id": "8TRX5Fw0N20a",
        "colab": {
          "base_uri": "https://localhost:8080/"
        },
        "outputId": "7ee79edd-8dff-4de2-fd06-36f2b9ece8f3"
      },
      "execution_count": null,
      "outputs": [
        {
          "output_type": "execute_result",
          "data": {
            "text/plain": [
              "22"
            ]
          },
          "metadata": {},
          "execution_count": 5
        }
      ]
    },
    {
      "cell_type": "code",
      "source": [
        "# 2. Create a Python function that accepts a string and returns the reverse of that string.\n",
        "def func(string):\n",
        "    return string[::-1]\n",
        "s = \"Deep\"\n",
        "result = func(s)\n",
        "result\n"
      ],
      "metadata": {
        "colab": {
          "base_uri": "https://localhost:8080/",
          "height": 35
        },
        "id": "e7aQcwBmkrPB",
        "outputId": "eb77678e-099a-4e8c-b0cd-b398ba2e5700"
      },
      "execution_count": null,
      "outputs": [
        {
          "output_type": "execute_result",
          "data": {
            "text/plain": [
              "'peeD'"
            ],
            "application/vnd.google.colaboratory.intrinsic+json": {
              "type": "string"
            }
          },
          "metadata": {},
          "execution_count": 6
        }
      ]
    },
    {
      "cell_type": "code",
      "source": [
        "# 3.  Implement a Python function that takes a list of integers and returns a new list containing the squares of each number.\n",
        "def func(list):\n",
        "  s=[]\n",
        "  for i in list:\n",
        "    s.append(i**2)\n",
        "  return s\n",
        "l = [1,2,3,4,5]\n",
        "result = func(l)\n",
        "result\n"
      ],
      "metadata": {
        "colab": {
          "base_uri": "https://localhost:8080/"
        },
        "id": "JPyB5Ij-mKAI",
        "outputId": "166901b9-3e5a-4798-880f-44f42be0d364"
      },
      "execution_count": null,
      "outputs": [
        {
          "output_type": "execute_result",
          "data": {
            "text/plain": [
              "[1, 4, 9, 16, 25]"
            ]
          },
          "metadata": {},
          "execution_count": 7
        }
      ]
    },
    {
      "cell_type": "code",
      "source": [
        "# 4. Write a Python function that checks if a given number is prime or not from 1 to 200\n",
        "def is_prime(number):\n",
        "    if number <= 1:\n",
        "        return False\n",
        "    if number <= 3:\n",
        "        return True\n",
        "    if number % 2 == 0 or number % 3 == 0:\n",
        "        return False\n",
        "n=int(input(\"Enter a number between 1 to 200 \\n\"))\n",
        "is_prime(n)"
      ],
      "metadata": {
        "colab": {
          "base_uri": "https://localhost:8080/"
        },
        "id": "_Yc4TiDdmnFv",
        "outputId": "8203caa4-c313-4bee-a32c-40cd2258cb05"
      },
      "execution_count": null,
      "outputs": [
        {
          "name": "stdout",
          "output_type": "stream",
          "text": [
            "Enter a number between 1 to 200 \n",
            "154\n"
          ]
        },
        {
          "output_type": "execute_result",
          "data": {
            "text/plain": [
              "False"
            ]
          },
          "metadata": {},
          "execution_count": 9
        }
      ]
    },
    {
      "cell_type": "code",
      "source": [
        "# 5.  Create an iterator class in Python that generates the Fibonacci sequence up to a specified number of terms.\n",
        "class FibonacciIterator:\n",
        "    def __init__(self, n):\n",
        "        self.n = n\n",
        "        self.a, self.b = 0, 1\n",
        "        self.count = 0\n",
        "\n",
        "    def __iter__(self):\n",
        "        return self\n"
      ],
      "metadata": {
        "id": "eSHoBZhanLQ2"
      },
      "execution_count": null,
      "outputs": []
    },
    {
      "cell_type": "code",
      "source": [
        "#6. Write a generator function in Python that yields the powers of 2 up to a given exponent\n",
        "def powers_of_2(exponent):\n",
        "    for i in range(exponent + 1):\n",
        "        yield 2 ** i  # Yielding the power of 2 for each iteration\n",
        "\n",
        "# Example usage\n",
        "for power in powers_of_2(5):\n",
        "    print(power)\n"
      ],
      "metadata": {
        "colab": {
          "base_uri": "https://localhost:8080/"
        },
        "id": "yHyPNBXhnvIH",
        "outputId": "ec5a03bd-cb86-4065-e465-a509e7433be8"
      },
      "execution_count": null,
      "outputs": [
        {
          "output_type": "stream",
          "name": "stdout",
          "text": [
            "1\n",
            "2\n",
            "4\n",
            "8\n",
            "16\n",
            "32\n"
          ]
        }
      ]
    },
    {
      "cell_type": "code",
      "source": [
        "#7.  Implement a generator function that reads a file line by line and yields each line as a string\n",
        "def read_file_lines(file_path):\n",
        "    with open(file_path, 'r') as file:\n",
        "        for line in file:\n",
        "            yield line\n"
      ],
      "metadata": {
        "id": "kZXX7NweoE8u"
      },
      "execution_count": null,
      "outputs": []
    },
    {
      "cell_type": "code",
      "source": [
        "#8.  Use a lambda function in Python to sort a list of tuples based on the second element of each tuple.\n",
        "data = [('apple', 3), ('banana', 1), ('cherry', 2)]\n",
        "sorted_data = sorted(data, key=lambda x: x[1])\n",
        "print(sorted_data)"
      ],
      "metadata": {
        "colab": {
          "base_uri": "https://localhost:8080/"
        },
        "id": "3wSbaJkAoW52",
        "outputId": "91aefd34-9417-4093-f66b-12f5689835a6"
      },
      "execution_count": null,
      "outputs": [
        {
          "output_type": "stream",
          "name": "stdout",
          "text": [
            "[('banana', 1), ('cherry', 2), ('apple', 3)]\n"
          ]
        }
      ]
    },
    {
      "cell_type": "code",
      "source": [
        "#9. Write a Python program that uses `map()` to convert a list of temperatures from Celsius to Fahrenheit\n",
        "\n",
        "def celsius_to_fahrenheit(celsius):\n",
        "    return (celsius * 9/5) + 32\n",
        "\n",
        "# List of temperatures in Celsius\n",
        "celsius_temperatures = [0, 20, 37, 100, -5]\n",
        "\n",
        "# Use map() to convert each Celsius temperature to Fahrenheit\n",
        "fahrenheit_temperatures = list(map(celsius_to_fahrenheit, celsius_temperatures))\n",
        "\n",
        "# Print the result\n",
        "print(fahrenheit_temperatures)\n",
        "\n"
      ],
      "metadata": {
        "colab": {
          "base_uri": "https://localhost:8080/",
          "height": 211
        },
        "id": "tcGVfKKPogIe",
        "outputId": "282a5378-6f0f-45fe-f637-7f4f0d652a8d"
      },
      "execution_count": null,
      "outputs": [
        {
          "output_type": "error",
          "ename": "TypeError",
          "evalue": "'int' object is not callable",
          "traceback": [
            "\u001b[0;31m---------------------------------------------------------------------------\u001b[0m",
            "\u001b[0;31mTypeError\u001b[0m                                 Traceback (most recent call last)",
            "\u001b[0;32m<ipython-input-18-5f9c7ff3114b>\u001b[0m in \u001b[0;36m<cell line: 10>\u001b[0;34m()\u001b[0m\n\u001b[1;32m      8\u001b[0m \u001b[0;34m\u001b[0m\u001b[0m\n\u001b[1;32m      9\u001b[0m \u001b[0;31m# Use map() to convert each Celsius temperature to Fahrenheit\u001b[0m\u001b[0;34m\u001b[0m\u001b[0;34m\u001b[0m\u001b[0m\n\u001b[0;32m---> 10\u001b[0;31m \u001b[0mfahrenheit_temperatures\u001b[0m \u001b[0;34m=\u001b[0m \u001b[0mlist\u001b[0m\u001b[0;34m(\u001b[0m\u001b[0mmap\u001b[0m\u001b[0;34m(\u001b[0m\u001b[0mcelsius_to_fahrenheit\u001b[0m\u001b[0;34m,\u001b[0m \u001b[0mcelsius_temperatures\u001b[0m\u001b[0;34m)\u001b[0m\u001b[0;34m)\u001b[0m\u001b[0;34m\u001b[0m\u001b[0;34m\u001b[0m\u001b[0m\n\u001b[0m\u001b[1;32m     11\u001b[0m \u001b[0;34m\u001b[0m\u001b[0m\n\u001b[1;32m     12\u001b[0m \u001b[0;31m# Print the result\u001b[0m\u001b[0;34m\u001b[0m\u001b[0;34m\u001b[0m\u001b[0m\n",
            "\u001b[0;31mTypeError\u001b[0m: 'int' object is not callable"
          ]
        }
      ]
    },
    {
      "cell_type": "code",
      "source": [
        "#10.  Create a Python program that uses `filter()` to remove all the vowels from a given string.\n",
        "\n",
        "def is_not_vowel(char):\n",
        "    return char.lower() not in 'aeiou'\n",
        "\n",
        "# Input string\n",
        "input_string = \"Hello, World!\"\n",
        "\n",
        "# Use filter() to remove vowels\n",
        "filtered_string = ''.join(filter(is_not_vowel, input_string))\n",
        "\n",
        "# Print the result\n",
        "print(filtered_string)\n"
      ],
      "metadata": {
        "colab": {
          "base_uri": "https://localhost:8080/"
        },
        "id": "hsG6-Fqmoxh-",
        "outputId": "d760ddd8-44da-42ba-a82a-01082af9b082"
      },
      "execution_count": null,
      "outputs": [
        {
          "output_type": "stream",
          "name": "stdout",
          "text": [
            "Hll, Wrld!\n"
          ]
        }
      ]
    },
    {
      "cell_type": "code",
      "source": [
        "# 11. Write a Python program, which returns a list with 2-tuples. Each tuple consists of the order number and the\n",
        "#     product of the price per item and the quantity. The product should be increased by 10,- € if the value of the\n",
        "#     order is smaller than 100,00 €.\n",
        "\n",
        "\n",
        "orders = [\n",
        "    [34587, \"Learning Python, Mark Lutz\", 4, 40.95],\n",
        "    [98762, \"Programming Python, Mark Lutz\", 5, 56.80],\n",
        "    [77226, \"Head First Python, Paul Barry\", 3, 32.95],\n",
        "    [88112, \"Einführung in Python3, Bernd Klein\", 3, 24.99],\n",
        "]\n",
        "\n",
        "# Function to calculate total order value and apply condition\n",
        "result = list(map(\n",
        "    lambda order: (order[0], order[2] * order[3] if order[2] * order[3] >= 100 else order[2] * order[3] + 10),\n",
        "    orders\n",
        "))\n",
        "\n",
        "# Print the result\n",
        "print(result)\n"
      ],
      "metadata": {
        "id": "rZP7qm6asCWV",
        "colab": {
          "base_uri": "https://localhost:8080/"
        },
        "outputId": "7d4a59b1-2051-4154-b626-ad37019f78ce"
      },
      "execution_count": 2,
      "outputs": [
        {
          "output_type": "stream",
          "name": "stdout",
          "text": [
            "[(34587, 163.8), (98762, 284.0), (77226, 108.85000000000001), (88112, 84.97)]\n"
          ]
        }
      ]
    },
    {
      "cell_type": "code",
      "source": [],
      "metadata": {
        "id": "j8Sw_YXLC-f6"
      },
      "execution_count": null,
      "outputs": []
    }
  ]
}